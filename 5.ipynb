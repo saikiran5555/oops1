{
 "cells": [
  {
   "cell_type": "markdown",
   "id": "095177a7",
   "metadata": {},
   "source": [
    "Inheritance is a fundamental concept in object-oriented programming (OOP) that allows a class to inherit properties and behaviors from another class. The class that is being inherited from is called the base class, parent class, or superclass, while the class that inherits from the base class is called the derived class, child class, or subclass.\n",
    "\n",
    "Inheritance promotes code reuse, modularity, and extensibility. It allows the derived class to inherit the attributes and methods of the base class, reducing code duplication and enabling the subclass to add or modify its own behavior."
   ]
  },
  {
   "cell_type": "markdown",
   "id": "25715cc6",
   "metadata": {},
   "source": [
    "There are different types of inheritance in Python:\n",
    "\n",
    "Single Inheritance:\n",
    "Single inheritance involves a class inheriting from a single base class. It is the most common type of inheritance. In single inheritance, the derived class inherits the attributes and methods of the base class."
   ]
  },
  {
   "cell_type": "code",
   "execution_count": 1,
   "id": "94acea3c",
   "metadata": {},
   "outputs": [
    {
     "name": "stdout",
     "output_type": "stream",
     "text": [
      "Making sound\n",
      "Barking\n"
     ]
    }
   ],
   "source": [
    "class Animal:\n",
    "    def sound(self):\n",
    "        print(\"Making sound\")\n",
    "\n",
    "class Dog(Animal):\n",
    "    def bark(self):\n",
    "        print(\"Barking\")\n",
    "\n",
    "dog = Dog()\n",
    "dog.sound()  \n",
    "dog.bark()   \n"
   ]
  },
  {
   "cell_type": "markdown",
   "id": "72b4e064",
   "metadata": {},
   "source": [
    "Multiple Inheritance:\n",
    "Multiple inheritance allows a class to inherit from multiple base classes. The derived class inherits attributes and methods from all the base classes. It provides a way to combine the features and functionalities of multiple classes into a single class."
   ]
  },
  {
   "cell_type": "code",
   "execution_count": 2,
   "id": "5a8f1249",
   "metadata": {},
   "outputs": [
    {
     "name": "stdout",
     "output_type": "stream",
     "text": [
      "Parent1 method\n",
      "Parent2 method\n",
      "Child method\n"
     ]
    }
   ],
   "source": [
    "class Parent1:\n",
    "    def method1(self):\n",
    "        print(\"Parent1 method\")\n",
    "\n",
    "class Parent2:\n",
    "    def method2(self):\n",
    "        print(\"Parent2 method\")\n",
    "\n",
    "class Child(Parent1, Parent2):\n",
    "    def method3(self):\n",
    "        print(\"Child method\")\n",
    "\n",
    "child = Child()\n",
    "child.method1()  \n",
    "child.method2() \n",
    "child.method3()  \n"
   ]
  },
  {
   "cell_type": "markdown",
   "id": "9a1dcc42",
   "metadata": {},
   "source": [
    "Multilevel Inheritance:\n",
    "Multilevel inheritance involves a derived class inheriting from another derived class. It creates a hierarchy of classes, where each derived class serves as the base class for the subsequent derived class."
   ]
  },
  {
   "cell_type": "code",
   "execution_count": 3,
   "id": "695fcfa0",
   "metadata": {},
   "outputs": [
    {
     "name": "stdout",
     "output_type": "stream",
     "text": [
      "Making sound\n",
      "Barking\n",
      "Guarding\n"
     ]
    }
   ],
   "source": [
    "class Animal:\n",
    "    def sound(self):\n",
    "        print(\"Making sound\")\n",
    "\n",
    "class Dog(Animal):\n",
    "    def bark(self):\n",
    "        print(\"Barking\")\n",
    "\n",
    "class Bulldog(Dog):\n",
    "    def guard(self):\n",
    "        print(\"Guarding\")\n",
    "\n",
    "bulldog = Bulldog()\n",
    "bulldog.sound()  \n",
    "bulldog.bark()   \n",
    "bulldog.guard()  \n"
   ]
  },
  {
   "cell_type": "markdown",
   "id": "9179c121",
   "metadata": {},
   "source": [
    "Hierarchical Inheritance:\n",
    "Hierarchical inheritance involves multiple derived classes inheriting from a single base class. It represents a parent-child relationship where the base class is the parent and the derived classes are the children."
   ]
  },
  {
   "cell_type": "code",
   "execution_count": 4,
   "id": "2bfb45d4",
   "metadata": {},
   "outputs": [
    {
     "name": "stdout",
     "output_type": "stream",
     "text": [
      "Making sound\n",
      "Meowing\n",
      "Making sound\n",
      "Roaring\n"
     ]
    }
   ],
   "source": [
    "class Animal:\n",
    "    def sound(self):\n",
    "        print(\"Making sound\")\n",
    "\n",
    "class Cat(Animal):\n",
    "    def meow(self):\n",
    "        print(\"Meowing\")\n",
    "\n",
    "class Lion(Animal):\n",
    "    def roar(self):\n",
    "        print(\"Roaring\")\n",
    "\n",
    "cat = Cat()\n",
    "cat.sound()  \n",
    "cat.meow()  \n",
    "lion = Lion()\n",
    "lion.sound()  \n",
    "lion.roar()   "
   ]
  },
  {
   "cell_type": "code",
   "execution_count": null,
   "id": "be483fdb",
   "metadata": {},
   "outputs": [],
   "source": []
  }
 ],
 "metadata": {
  "kernelspec": {
   "display_name": "Python 3 (ipykernel)",
   "language": "python",
   "name": "python3"
  },
  "language_info": {
   "codemirror_mode": {
    "name": "ipython",
    "version": 3
   },
   "file_extension": ".py",
   "mimetype": "text/x-python",
   "name": "python",
   "nbconvert_exporter": "python",
   "pygments_lexer": "ipython3",
   "version": "3.10.9"
  }
 },
 "nbformat": 4,
 "nbformat_minor": 5
}
