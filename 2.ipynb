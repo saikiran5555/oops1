{
 "cells": [
  {
   "cell_type": "markdown",
   "id": "3182f904",
   "metadata": {},
   "source": [
    "Encapsulation: Encapsulation is the process of combining data (attributes) and the methods (functions) that operate on that data into a single unit called a class. It promotes data hiding and abstraction, allowing the internal implementation details of a class to be hidden from other parts of the program. Encapsulation helps in organizing and managing code by keeping related data and methods together."
   ]
  },
  {
   "cell_type": "markdown",
   "id": "a61ec8b0",
   "metadata": {},
   "source": [
    "Inheritance: Inheritance allows classes to inherit attributes and methods from other classes. It establishes an \"is-a\" relationship between classes, where a derived class (subclass) inherits the properties of a base class (superclass). Inheritance promotes code reuse and helps in creating a hierarchy of classes with increasing levels of specialization. The derived class inherits the characteristics of the base class and can add or override its own behavior."
   ]
  },
  {
   "cell_type": "markdown",
   "id": "338c8082",
   "metadata": {},
   "source": [
    "Polymorphism: Polymorphism means the ability of objects to take on different forms or exhibit different behaviors based on the context. It allows objects of different classes to be treated as objects of a common base class. Polymorphism enables code to be written in a generic and flexible manner, making it possible to write code that can work with objects of different types without needing to know their specific class. Polymorphism is typically achieved through method overriding and method overloading."
   ]
  },
  {
   "cell_type": "markdown",
   "id": "378f6d34",
   "metadata": {},
   "source": [
    "Abstraction: Abstraction refers to the process of simplifying complex systems by breaking them down into smaller, more manageable components. It involves representing the essential features of an object or system while hiding unnecessary details. Abstraction allows us to focus on the relevant aspects of an object or system and ignore the irrelevant ones. In OOP, abstraction is achieved through classes and interfaces, which provide a simplified and generalized representation of objects with their essential properties and behaviors."
   ]
  }
 ],
 "metadata": {
  "kernelspec": {
   "display_name": "Python 3 (ipykernel)",
   "language": "python",
   "name": "python3"
  },
  "language_info": {
   "codemirror_mode": {
    "name": "ipython",
    "version": 3
   },
   "file_extension": ".py",
   "mimetype": "text/x-python",
   "name": "python",
   "nbconvert_exporter": "python",
   "pygments_lexer": "ipython3",
   "version": "3.10.9"
  }
 },
 "nbformat": 4,
 "nbformat_minor": 5
}
