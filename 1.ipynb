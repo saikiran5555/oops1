{
 "cells": [
  {
   "cell_type": "markdown",
   "id": "14a7dd76",
   "metadata": {},
   "source": [
    "In object-oriented programming (OOP), a class is a blueprint or template that defines the structure and behavior of objects. It serves as a blueprint for creating objects, encapsulating data (attributes) and functions (methods) that operate on that data. A class defines the common characteristics and behavior shared by a group of objects."
   ]
  },
  {
   "cell_type": "markdown",
   "id": "86208253",
   "metadata": {},
   "source": [
    "An object, on the other hand, is an instance of a class. It is a tangible entity that is created based on the class definition. Objects have their own unique state (attribute values) and can perform actions (methods) defined in the class."
   ]
  },
  {
   "cell_type": "code",
   "execution_count": 1,
   "id": "8d7bfe9e",
   "metadata": {},
   "outputs": [
    {
     "name": "stdout",
     "output_type": "stream",
     "text": [
      "Toyota\n",
      "Civic\n",
      "The Toyota Camry's engine is started.\n",
      "The Honda Civic is being driven.\n"
     ]
    }
   ],
   "source": [
    "class Car:\n",
    "    def __init__(self, make, model, year):\n",
    "        self.make = make\n",
    "        self.model = model\n",
    "        self.year = year\n",
    "\n",
    "    def start_engine(self):\n",
    "        print(f\"The {self.make} {self.model}'s engine is started.\")\n",
    "\n",
    "    def drive(self):\n",
    "        print(f\"The {self.make} {self.model} is being driven.\")\n",
    "\n",
    "# Create objects of the Car class\n",
    "car1 = Car(\"Toyota\", \"Camry\", 2022)\n",
    "car2 = Car(\"Honda\", \"Civic\", 2021)\n",
    "\n",
    "# Accessing object attributes\n",
    "print(car1.make)    # Output: Toyota\n",
    "print(car2.model)   # Output: Civic\n",
    "\n",
    "# Calling object methods\n",
    "car1.start_engine()  # Output: The Toyota Camry's engine is started.\n",
    "car2.drive()         # Output: The Honda Civic is being driven.\n"
   ]
  },
  {
   "cell_type": "code",
   "execution_count": null,
   "id": "8ee05f33",
   "metadata": {},
   "outputs": [],
   "source": []
  }
 ],
 "metadata": {
  "kernelspec": {
   "display_name": "Python 3 (ipykernel)",
   "language": "python",
   "name": "python3"
  },
  "language_info": {
   "codemirror_mode": {
    "name": "ipython",
    "version": 3
   },
   "file_extension": ".py",
   "mimetype": "text/x-python",
   "name": "python",
   "nbconvert_exporter": "python",
   "pygments_lexer": "ipython3",
   "version": "3.10.9"
  }
 },
 "nbformat": 4,
 "nbformat_minor": 5
}
