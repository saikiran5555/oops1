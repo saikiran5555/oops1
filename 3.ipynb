{
 "cells": [
  {
   "cell_type": "markdown",
   "id": "ad5aa3f2",
   "metadata": {},
   "source": [
    "The __init__() function is a special method in Python classes that is automatically called when an object is created from the class. It is commonly known as the constructor method. The primary purpose of the __init__() function is to initialize the object's attributes and perform any necessary setup or initialization."
   ]
  },
  {
   "cell_type": "code",
   "execution_count": 1,
   "id": "cc25be4f",
   "metadata": {},
   "outputs": [
    {
     "name": "stdout",
     "output_type": "stream",
     "text": [
      "John\n",
      "25\n",
      "My name is John and I am 25 years old.\n"
     ]
    }
   ],
   "source": [
    "class Person:\n",
    "    def __init__(self, name, age):\n",
    "        self.name = name\n",
    "        self.age = age\n",
    "\n",
    "    def introduce(self):\n",
    "        print(f\"My name is {self.name} and I am {self.age} years old.\")\n",
    "\n",
    "# Create an instance of the Person class\n",
    "person1 = Person(\"John\", 25)\n",
    "\n",
    "# Access the object's attributes\n",
    "print(person1.name)  # Output: John\n",
    "print(person1.age)   # Output: 25\n",
    "\n",
    "# Call the object's method\n",
    "person1.introduce()  # Output: My name is John and I am 25 years old.\n"
   ]
  },
  {
   "cell_type": "code",
   "execution_count": null,
   "id": "94a60586",
   "metadata": {},
   "outputs": [],
   "source": []
  }
 ],
 "metadata": {
  "kernelspec": {
   "display_name": "Python 3 (ipykernel)",
   "language": "python",
   "name": "python3"
  },
  "language_info": {
   "codemirror_mode": {
    "name": "ipython",
    "version": 3
   },
   "file_extension": ".py",
   "mimetype": "text/x-python",
   "name": "python",
   "nbconvert_exporter": "python",
   "pygments_lexer": "ipython3",
   "version": "3.10.9"
  }
 },
 "nbformat": 4,
 "nbformat_minor": 5
}
