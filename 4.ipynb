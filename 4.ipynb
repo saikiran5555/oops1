{
 "cells": [
  {
   "cell_type": "markdown",
   "id": "40ea749f",
   "metadata": {},
   "source": [
    "In object-oriented programming (OOP), self is a conventionally used parameter name that refers to the instance of a class. It is used to access the attributes and methods of an object within the class definition. The use of self allows different instances of a class to have their own unique data and behavior."
   ]
  },
  {
   "cell_type": "markdown",
   "id": "dee52eff",
   "metadata": {},
   "source": [
    "Here are a few reasons why self is used in OOP:\n",
    "\n",
    "Object Referencing: When a class is instantiated to create an object, self is used to reference that particular instance of the class. It helps in differentiating between multiple objects of the same class and ensures that attribute assignments and method calls are applied to the correct instance.\n",
    "\n",
    "Attribute Access: Inside a class, self is used to access and manipulate the instance attributes. It allows the object to store and retrieve its own data. By using self.attribute_name, you can access or modify the value of an attribute specific to that instance.\n",
    "\n",
    "Method Invocation: When a method is defined within a class, self is automatically passed as the first parameter to that method. It allows the method to access other attributes and methods of the same object. By using self.method_name(), you can invoke other methods of the object.\n",
    "\n",
    "Instance Scope: self is used to define the scope of variables and methods within a class. It ensures that attributes and methods belong to the instance of the class, rather than being treated as global or static elements. This way, each object maintains its own separate state."
   ]
  },
  {
   "cell_type": "code",
   "execution_count": 1,
   "id": "fd63845f",
   "metadata": {},
   "outputs": [
    {
     "name": "stdout",
     "output_type": "stream",
     "text": [
      "5\n",
      "3\n",
      "78.5\n",
      "28.26\n"
     ]
    }
   ],
   "source": [
    "class Circle:\n",
    "    def __init__(self, radius):\n",
    "        self.radius = radius\n",
    "\n",
    "    def calculate_area(self):\n",
    "        area = 3.14 * self.radius ** 2\n",
    "        return area\n",
    "\n",
    "# Create two instances of the Circle class\n",
    "circle1 = Circle(5)\n",
    "circle2 = Circle(3)\n",
    "\n",
    "# Access the instance attributes using self\n",
    "print(circle1.radius)  # Output: 5\n",
    "print(circle2.radius)  # Output: 3\n",
    "\n",
    "# Invoke the method using self\n",
    "print(circle1.calculate_area())  # Output: 78.5\n",
    "print(circle2.calculate_area())  # Output: 28.26\n"
   ]
  },
  {
   "cell_type": "code",
   "execution_count": null,
   "id": "a92b68a8",
   "metadata": {},
   "outputs": [],
   "source": []
  }
 ],
 "metadata": {
  "kernelspec": {
   "display_name": "Python 3 (ipykernel)",
   "language": "python",
   "name": "python3"
  },
  "language_info": {
   "codemirror_mode": {
    "name": "ipython",
    "version": 3
   },
   "file_extension": ".py",
   "mimetype": "text/x-python",
   "name": "python",
   "nbconvert_exporter": "python",
   "pygments_lexer": "ipython3",
   "version": "3.10.9"
  }
 },
 "nbformat": 4,
 "nbformat_minor": 5
}
